{
 "cells": [
  {
   "cell_type": "markdown",
   "metadata": {
    "id": "JWt5yOQIyuyp"
   },
   "source": [
    "# Case Study: Predicting Future and Past Temperatures Using Simple Linear Regression\n",
    "### Loading the Average High Temperatures into a `DataFrame`\n",
    "\n"
   ]
  },
  {
   "cell_type": "code",
   "execution_count": 94,
   "metadata": {
    "executionInfo": {
     "elapsed": 697,
     "status": "ok",
     "timestamp": 1697538621444,
     "user": {
      "displayName": "Antesar Shabut",
      "userId": "04854207091221281884"
     },
     "user_tz": -60
    },
    "id": "EHIvkwT6yuyy"
   },
   "outputs": [],
   "source": [
    "import pandas as pd"
   ]
  },
  {
   "cell_type": "code",
   "execution_count": 96,
   "metadata": {
    "executionInfo": {
     "elapsed": 241,
     "status": "ok",
     "timestamp": 1697538631511,
     "user": {
      "displayName": "Antesar Shabut",
      "userId": "04854207091221281884"
     },
     "user_tz": -60
    },
    "id": "zBfsSJ4nyuy1"
   },
   "outputs": [],
   "source": [
    "# Dataset is saved in CSV file\n",
    "nyc = pd.read_csv('Lab 1 dataset.csv')"
   ]
  },
  {
   "cell_type": "code",
   "execution_count": 98,
   "metadata": {
    "executionInfo": {
     "elapsed": 5,
     "status": "ok",
     "timestamp": 1697538686671,
     "user": {
      "displayName": "Antesar Shabut",
      "userId": "04854207091221281884"
     },
     "user_tz": -60
    },
    "id": "VwQxAJD9yuy2"
   },
   "outputs": [],
   "source": [
    "# Rename the columns names\n",
    "nyc.columns = ['Date', 'Temperature', 'Anomaly']"
   ]
  },
  {
   "cell_type": "code",
   "execution_count": 100,
   "metadata": {
    "colab": {
     "base_uri": "https://localhost:8080/",
     "height": 143
    },
    "executionInfo": {
     "elapsed": 320,
     "status": "ok",
     "timestamp": 1697538741465,
     "user": {
      "displayName": "Antesar Shabut",
      "userId": "04854207091221281884"
     },
     "user_tz": -60
    },
    "id": "0hk3qfJY401H",
    "outputId": "abc5f850-b5e1-417f-8cba-b5b3e4480e83"
   },
   "outputs": [
    {
     "data": {
      "text/html": [
       "<div>\n",
       "<style scoped>\n",
       "    .dataframe tbody tr th:only-of-type {\n",
       "        vertical-align: middle;\n",
       "    }\n",
       "\n",
       "    .dataframe tbody tr th {\n",
       "        vertical-align: top;\n",
       "    }\n",
       "\n",
       "    .dataframe thead th {\n",
       "        text-align: right;\n",
       "    }\n",
       "</style>\n",
       "<table border=\"1\" class=\"dataframe\">\n",
       "  <thead>\n",
       "    <tr style=\"text-align: right;\">\n",
       "      <th></th>\n",
       "      <th>Date</th>\n",
       "      <th>Temperature</th>\n",
       "      <th>Anomaly</th>\n",
       "    </tr>\n",
       "  </thead>\n",
       "  <tbody>\n",
       "    <tr>\n",
       "      <th>0</th>\n",
       "      <td>189501</td>\n",
       "      <td>34.2</td>\n",
       "      <td>-3.2</td>\n",
       "    </tr>\n",
       "    <tr>\n",
       "      <th>1</th>\n",
       "      <td>189601</td>\n",
       "      <td>34.7</td>\n",
       "      <td>-2.7</td>\n",
       "    </tr>\n",
       "    <tr>\n",
       "      <th>2</th>\n",
       "      <td>189701</td>\n",
       "      <td>35.5</td>\n",
       "      <td>-1.9</td>\n",
       "    </tr>\n",
       "  </tbody>\n",
       "</table>\n",
       "</div>"
      ],
      "text/plain": [
       "     Date  Temperature  Anomaly\n",
       "0  189501         34.2     -3.2\n",
       "1  189601         34.7     -2.7\n",
       "2  189701         35.5     -1.9"
      ]
     },
     "execution_count": 100,
     "metadata": {},
     "output_type": "execute_result"
    }
   ],
   "source": [
    "# Display the top 3 samples\n",
    "nyc.head(3)"
   ]
  },
  {
   "cell_type": "code",
   "execution_count": 102,
   "metadata": {
    "executionInfo": {
     "elapsed": 280,
     "status": "ok",
     "timestamp": 1697538791017,
     "user": {
      "displayName": "Antesar Shabut",
      "userId": "04854207091221281884"
     },
     "user_tz": -60
    },
    "id": "qCZ3glt9yuy3"
   },
   "outputs": [],
   "source": [
    "# Remove 01 from the Date columns using integer division function floordiv\n",
    "nyc.Date = nyc.Date.floordiv(100)"
   ]
  },
  {
   "cell_type": "code",
   "execution_count": 104,
   "metadata": {
    "colab": {
     "base_uri": "https://localhost:8080/",
     "height": 143
    },
    "executionInfo": {
     "elapsed": 417,
     "status": "ok",
     "timestamp": 1697538796248,
     "user": {
      "displayName": "Antesar Shabut",
      "userId": "04854207091221281884"
     },
     "user_tz": -60
    },
    "id": "Hl2hNRC2yuy4",
    "outputId": "d73b2df9-a14c-41d4-c898-9469bb3f8a63"
   },
   "outputs": [
    {
     "data": {
      "text/html": [
       "<div>\n",
       "<style scoped>\n",
       "    .dataframe tbody tr th:only-of-type {\n",
       "        vertical-align: middle;\n",
       "    }\n",
       "\n",
       "    .dataframe tbody tr th {\n",
       "        vertical-align: top;\n",
       "    }\n",
       "\n",
       "    .dataframe thead th {\n",
       "        text-align: right;\n",
       "    }\n",
       "</style>\n",
       "<table border=\"1\" class=\"dataframe\">\n",
       "  <thead>\n",
       "    <tr style=\"text-align: right;\">\n",
       "      <th></th>\n",
       "      <th>Date</th>\n",
       "      <th>Temperature</th>\n",
       "      <th>Anomaly</th>\n",
       "    </tr>\n",
       "  </thead>\n",
       "  <tbody>\n",
       "    <tr>\n",
       "      <th>0</th>\n",
       "      <td>1895</td>\n",
       "      <td>34.2</td>\n",
       "      <td>-3.2</td>\n",
       "    </tr>\n",
       "    <tr>\n",
       "      <th>1</th>\n",
       "      <td>1896</td>\n",
       "      <td>34.7</td>\n",
       "      <td>-2.7</td>\n",
       "    </tr>\n",
       "    <tr>\n",
       "      <th>2</th>\n",
       "      <td>1897</td>\n",
       "      <td>35.5</td>\n",
       "      <td>-1.9</td>\n",
       "    </tr>\n",
       "  </tbody>\n",
       "</table>\n",
       "</div>"
      ],
      "text/plain": [
       "   Date  Temperature  Anomaly\n",
       "0  1895         34.2     -3.2\n",
       "1  1896         34.7     -2.7\n",
       "2  1897         35.5     -1.9"
      ]
     },
     "execution_count": 104,
     "metadata": {},
     "output_type": "execute_result"
    }
   ],
   "source": [
    "# Display the top 3 samples\n",
    "nyc.head(3)"
   ]
  },
  {
   "cell_type": "code",
   "execution_count": 106,
   "metadata": {
    "colab": {
     "base_uri": "https://localhost:8080/",
     "height": 143
    },
    "executionInfo": {
     "elapsed": 626,
     "status": "ok",
     "timestamp": 1697538809462,
     "user": {
      "displayName": "Antesar Shabut",
      "userId": "04854207091221281884"
     },
     "user_tz": -60
    },
    "id": "jhLuIoQUyuy6",
    "outputId": "1da100ab-8ae7-4975-e357-2972f95fee6c"
   },
   "outputs": [
    {
     "data": {
      "text/html": [
       "<div>\n",
       "<style scoped>\n",
       "    .dataframe tbody tr th:only-of-type {\n",
       "        vertical-align: middle;\n",
       "    }\n",
       "\n",
       "    .dataframe tbody tr th {\n",
       "        vertical-align: top;\n",
       "    }\n",
       "\n",
       "    .dataframe thead th {\n",
       "        text-align: right;\n",
       "    }\n",
       "</style>\n",
       "<table border=\"1\" class=\"dataframe\">\n",
       "  <thead>\n",
       "    <tr style=\"text-align: right;\">\n",
       "      <th></th>\n",
       "      <th>Date</th>\n",
       "      <th>Temperature</th>\n",
       "      <th>Anomaly</th>\n",
       "    </tr>\n",
       "  </thead>\n",
       "  <tbody>\n",
       "    <tr>\n",
       "      <th>121</th>\n",
       "      <td>2016</td>\n",
       "      <td>40.8</td>\n",
       "      <td>3.4</td>\n",
       "    </tr>\n",
       "    <tr>\n",
       "      <th>122</th>\n",
       "      <td>2017</td>\n",
       "      <td>42.8</td>\n",
       "      <td>5.4</td>\n",
       "    </tr>\n",
       "    <tr>\n",
       "      <th>123</th>\n",
       "      <td>2018</td>\n",
       "      <td>38.7</td>\n",
       "      <td>1.3</td>\n",
       "    </tr>\n",
       "  </tbody>\n",
       "</table>\n",
       "</div>"
      ],
      "text/plain": [
       "     Date  Temperature  Anomaly\n",
       "121  2016         40.8      3.4\n",
       "122  2017         42.8      5.4\n",
       "123  2018         38.7      1.3"
      ]
     },
     "execution_count": 106,
     "metadata": {},
     "output_type": "execute_result"
    }
   ],
   "source": [
    "# Dispaly the bottom 3 samples\n",
    "nyc.tail(3)"
   ]
  },
  {
   "cell_type": "code",
   "execution_count": 108,
   "metadata": {
    "colab": {
     "base_uri": "https://localhost:8080/",
     "height": 300
    },
    "executionInfo": {
     "elapsed": 382,
     "status": "ok",
     "timestamp": 1697538827176,
     "user": {
      "displayName": "Antesar Shabut",
      "userId": "04854207091221281884"
     },
     "user_tz": -60
    },
    "id": "hhMlcZcWyuy8",
    "outputId": "aa2467c0-e493-4781-a2ef-9b741d9687a3"
   },
   "outputs": [
    {
     "data": {
      "text/html": [
       "<div>\n",
       "<style scoped>\n",
       "    .dataframe tbody tr th:only-of-type {\n",
       "        vertical-align: middle;\n",
       "    }\n",
       "\n",
       "    .dataframe tbody tr th {\n",
       "        vertical-align: top;\n",
       "    }\n",
       "\n",
       "    .dataframe thead th {\n",
       "        text-align: right;\n",
       "    }\n",
       "</style>\n",
       "<table border=\"1\" class=\"dataframe\">\n",
       "  <thead>\n",
       "    <tr style=\"text-align: right;\">\n",
       "      <th></th>\n",
       "      <th>Date</th>\n",
       "      <th>Temperature</th>\n",
       "      <th>Anomaly</th>\n",
       "    </tr>\n",
       "  </thead>\n",
       "  <tbody>\n",
       "    <tr>\n",
       "      <th>count</th>\n",
       "      <td>124.000000</td>\n",
       "      <td>124.000000</td>\n",
       "      <td>124.000000</td>\n",
       "    </tr>\n",
       "    <tr>\n",
       "      <th>mean</th>\n",
       "      <td>1956.500000</td>\n",
       "      <td>37.595161</td>\n",
       "      <td>0.195161</td>\n",
       "    </tr>\n",
       "    <tr>\n",
       "      <th>std</th>\n",
       "      <td>35.939764</td>\n",
       "      <td>4.539848</td>\n",
       "      <td>4.539848</td>\n",
       "    </tr>\n",
       "    <tr>\n",
       "      <th>min</th>\n",
       "      <td>1895.000000</td>\n",
       "      <td>26.100000</td>\n",
       "      <td>-11.300000</td>\n",
       "    </tr>\n",
       "    <tr>\n",
       "      <th>25%</th>\n",
       "      <td>1925.750000</td>\n",
       "      <td>34.575000</td>\n",
       "      <td>-2.825000</td>\n",
       "    </tr>\n",
       "    <tr>\n",
       "      <th>50%</th>\n",
       "      <td>1956.500000</td>\n",
       "      <td>37.600000</td>\n",
       "      <td>0.200000</td>\n",
       "    </tr>\n",
       "    <tr>\n",
       "      <th>75%</th>\n",
       "      <td>1987.250000</td>\n",
       "      <td>40.600000</td>\n",
       "      <td>3.200000</td>\n",
       "    </tr>\n",
       "    <tr>\n",
       "      <th>max</th>\n",
       "      <td>2018.000000</td>\n",
       "      <td>47.600000</td>\n",
       "      <td>10.200000</td>\n",
       "    </tr>\n",
       "  </tbody>\n",
       "</table>\n",
       "</div>"
      ],
      "text/plain": [
       "              Date  Temperature     Anomaly\n",
       "count   124.000000   124.000000  124.000000\n",
       "mean   1956.500000    37.595161    0.195161\n",
       "std      35.939764     4.539848    4.539848\n",
       "min    1895.000000    26.100000  -11.300000\n",
       "25%    1925.750000    34.575000   -2.825000\n",
       "50%    1956.500000    37.600000    0.200000\n",
       "75%    1987.250000    40.600000    3.200000\n",
       "max    2018.000000    47.600000   10.200000"
      ]
     },
     "execution_count": 108,
     "metadata": {},
     "output_type": "execute_result"
    }
   ],
   "source": [
    "# Display the data statistics\n",
    "nyc.describe()"
   ]
  },
  {
   "cell_type": "markdown",
   "metadata": {
    "id": "p3rBJnAHyuy9"
   },
   "source": [
    "### Splitting the Data for Training and Testing"
   ]
  },
  {
   "cell_type": "code",
   "execution_count": 111,
   "metadata": {
    "executionInfo": {
     "elapsed": 1631,
     "status": "ok",
     "timestamp": 1697538922413,
     "user": {
      "displayName": "Antesar Shabut",
      "userId": "04854207091221281884"
     },
     "user_tz": -60
    },
    "id": "mET_Y-ezyuy_"
   },
   "outputs": [],
   "source": [
    "# Split the data for training and testing\n",
    "from sklearn.model_selection import train_test_split"
   ]
  },
  {
   "cell_type": "code",
   "execution_count": 113,
   "metadata": {
    "executionInfo": {
     "elapsed": 410,
     "status": "ok",
     "timestamp": 1697538998594,
     "user": {
      "displayName": "Antesar Shabut",
      "userId": "04854207091221281884"
     },
     "user_tz": -60
    },
    "id": "b_4WWC4vyuzA"
   },
   "outputs": [],
   "source": [
    "# this step will reshape the data and create a two dimensional array X contains only the Date and y contains only the Temperatures\n",
    "X_train, X_test, y_train, y_test = train_test_split(\n",
    "     nyc.Date.values.reshape(-1, 1), nyc.Temperature.values,\n",
    "     random_state=11)"
   ]
  },
  {
   "cell_type": "code",
   "execution_count": 115,
   "metadata": {
    "colab": {
     "base_uri": "https://localhost:8080/"
    },
    "executionInfo": {
     "elapsed": 6,
     "status": "ok",
     "timestamp": 1697539001054,
     "user": {
      "displayName": "Antesar Shabut",
      "userId": "04854207091221281884"
     },
     "user_tz": -60
    },
    "id": "q-LCDuGZyuzB",
    "outputId": "7a433d04-5f4e-4d7e-bf5a-5eefcb628a59"
   },
   "outputs": [
    {
     "data": {
      "text/plain": [
       "(93, 1)"
      ]
     },
     "execution_count": 115,
     "metadata": {},
     "output_type": "execute_result"
    }
   ],
   "source": [
    "# Confirm the splitting is 75%–25% train-test by checking the shapes of X_train:\n",
    "X_train.shape"
   ]
  },
  {
   "cell_type": "code",
   "execution_count": 117,
   "metadata": {
    "colab": {
     "base_uri": "https://localhost:8080/"
    },
    "executionInfo": {
     "elapsed": 217,
     "status": "ok",
     "timestamp": 1697539034368,
     "user": {
      "displayName": "Antesar Shabut",
      "userId": "04854207091221281884"
     },
     "user_tz": -60
    },
    "id": "UPeBQkA3yuzD",
    "outputId": "f2eb30d0-1f5e-4e6b-f2a4-1c3736c2bcdf"
   },
   "outputs": [
    {
     "data": {
      "text/plain": [
       "(31, 1)"
      ]
     },
     "execution_count": 117,
     "metadata": {},
     "output_type": "execute_result"
    }
   ],
   "source": [
    "# Confirm the splitting is 75%–25% train-test by checking the shapes of X_test:\n",
    "X_test.shape"
   ]
  },
  {
   "cell_type": "code",
   "execution_count": 119,
   "metadata": {
    "colab": {
     "base_uri": "https://localhost:8080/"
    },
    "executionInfo": {
     "elapsed": 320,
     "status": "ok",
     "timestamp": 1697539071503,
     "user": {
      "displayName": "Antesar Shabut",
      "userId": "04854207091221281884"
     },
     "user_tz": -60
    },
    "id": "Czyg0tPIyuzE",
    "outputId": "aff39748-387f-4acf-8730-7c2311d91350"
   },
   "outputs": [
    {
     "name": "stdout",
     "output_type": "stream",
     "text": [
      "[[1996]\n",
      " [1944]\n",
      " [2012]\n",
      " [1923]\n",
      " [1946]\n",
      " [2017]\n",
      " [2002]\n",
      " [2016]\n",
      " [1949]\n",
      " [1955]\n",
      " [1915]\n",
      " [1994]\n",
      " [1961]\n",
      " [1947]\n",
      " [2000]\n",
      " [1906]\n",
      " [1936]\n",
      " [1926]\n",
      " [1997]\n",
      " [2010]\n",
      " [2001]\n",
      " [1964]\n",
      " [1973]\n",
      " [1995]\n",
      " [1990]\n",
      " [1941]\n",
      " [1942]\n",
      " [1982]\n",
      " [2006]\n",
      " [1913]\n",
      " [1988]\n",
      " [1991]\n",
      " [1967]\n",
      " [1933]\n",
      " [2018]\n",
      " [1914]\n",
      " [2003]\n",
      " [1963]\n",
      " [1903]\n",
      " [1898]\n",
      " [1998]\n",
      " [1954]\n",
      " [1945]\n",
      " [2009]\n",
      " [1948]\n",
      " [1900]\n",
      " [1980]\n",
      " [1935]\n",
      " [2005]\n",
      " [1993]\n",
      " [2013]\n",
      " [1902]\n",
      " [1909]\n",
      " [1939]\n",
      " [1984]\n",
      " [1952]\n",
      " [1905]\n",
      " [1989]\n",
      " [1922]\n",
      " [1918]\n",
      " [1974]\n",
      " [1959]\n",
      " [1938]\n",
      " [1965]\n",
      " [1962]\n",
      " [1912]\n",
      " [2007]\n",
      " [2015]\n",
      " [2014]\n",
      " [1979]\n",
      " [1932]\n",
      " [1969]\n",
      " [1896]\n",
      " [1907]\n",
      " [1929]\n",
      " [1899]\n",
      " [1940]\n",
      " [1927]\n",
      " [1943]\n",
      " [1987]\n",
      " [2004]\n",
      " [1919]\n",
      " [1977]\n",
      " [1966]\n",
      " [1928]\n",
      " [1971]\n",
      " [1908]\n",
      " [1950]\n",
      " [1976]\n",
      " [1986]\n",
      " [1975]\n",
      " [1958]\n",
      " [1920]]\n"
     ]
    }
   ],
   "source": [
    "# Check the X_train values\n",
    "print(X_train)"
   ]
  },
  {
   "cell_type": "code",
   "execution_count": 121,
   "metadata": {
    "colab": {
     "base_uri": "https://localhost:8080/"
    },
    "executionInfo": {
     "elapsed": 358,
     "status": "ok",
     "timestamp": 1697539189265,
     "user": {
      "displayName": "Antesar Shabut",
      "userId": "04854207091221281884"
     },
     "user_tz": -60
    },
    "id": "EY9L9FCryuzF",
    "outputId": "012a8cb6-195e-4497-aa00-b56f60d3a6ae"
   },
   "outputs": [
    {
     "name": "stdout",
     "output_type": "stream",
     "text": [
      "[37.  39.  44.2 35.2 40.2 42.8 45.4 40.8 43.5 35.6 38.9 31.6 31.9 43.\n",
      " 37.8 42.3 34.3 37.2 39.2 38.1 38.8 40.2 40.6 42.6 46.  34.5 36.5 30.9\n",
      " 47.6 46.9 34.2 39.6 41.6 45.6 38.7 36.9 32.9 34.6 35.5 39.6 45.8 37.\n",
      " 31.5 33.4 30.1 37.4 38.  35.  37.4 41.  40.8 35.  39.6 36.8 33.5 42.4\n",
      " 33.7 42.4 33.4 26.5 39.7 37.1 37.3 34.  38.  29.3 43.6 36.1 35.5 38.6\n",
      " 47.6 35.7 34.7 40.5 37.8 36.4 30.  36.8 36.1 35.9 31.  40.6 26.1 37.1\n",
      " 40.  31.5 38.3 47.6 32.6 39.3 41.7 36.4 29.7]\n"
     ]
    }
   ],
   "source": [
    "# Check the y_train values\n",
    "print(y_train)"
   ]
  },
  {
   "cell_type": "markdown",
   "metadata": {
    "id": "8OjK90ScyuzG"
   },
   "source": [
    "### Training the Model"
   ]
  },
  {
   "cell_type": "code",
   "execution_count": 124,
   "metadata": {
    "executionInfo": {
     "elapsed": 327,
     "status": "ok",
     "timestamp": 1697539207100,
     "user": {
      "displayName": "Antesar Shabut",
      "userId": "04854207091221281884"
     },
     "user_tz": -60
    },
    "id": "tzWwkdMDyuzG"
   },
   "outputs": [],
   "source": [
    "from sklearn.linear_model import LinearRegression"
   ]
  },
  {
   "cell_type": "code",
   "execution_count": 126,
   "metadata": {
    "executionInfo": {
     "elapsed": 309,
     "status": "ok",
     "timestamp": 1697539213019,
     "user": {
      "displayName": "Antesar Shabut",
      "userId": "04854207091221281884"
     },
     "user_tz": -60
    },
    "id": "Oj8iFKh2yuzH"
   },
   "outputs": [],
   "source": [
    "linear_regression = LinearRegression()"
   ]
  },
  {
   "cell_type": "code",
   "execution_count": 128,
   "metadata": {
    "colab": {
     "base_uri": "https://localhost:8080/",
     "height": 74
    },
    "executionInfo": {
     "elapsed": 266,
     "status": "ok",
     "timestamp": 1697539218061,
     "user": {
      "displayName": "Antesar Shabut",
      "userId": "04854207091221281884"
     },
     "user_tz": -60
    },
    "id": "aAxTFlmcyuzH",
    "outputId": "daab2f56-0d44-4fee-9e3c-cf66b49274b9"
   },
   "outputs": [
    {
     "data": {
      "text/html": [
       "<style>#sk-container-id-2 {\n",
       "  /* Definition of color scheme common for light and dark mode */\n",
       "  --sklearn-color-text: black;\n",
       "  --sklearn-color-line: gray;\n",
       "  /* Definition of color scheme for unfitted estimators */\n",
       "  --sklearn-color-unfitted-level-0: #fff5e6;\n",
       "  --sklearn-color-unfitted-level-1: #f6e4d2;\n",
       "  --sklearn-color-unfitted-level-2: #ffe0b3;\n",
       "  --sklearn-color-unfitted-level-3: chocolate;\n",
       "  /* Definition of color scheme for fitted estimators */\n",
       "  --sklearn-color-fitted-level-0: #f0f8ff;\n",
       "  --sklearn-color-fitted-level-1: #d4ebff;\n",
       "  --sklearn-color-fitted-level-2: #b3dbfd;\n",
       "  --sklearn-color-fitted-level-3: cornflowerblue;\n",
       "\n",
       "  /* Specific color for light theme */\n",
       "  --sklearn-color-text-on-default-background: var(--sg-text-color, var(--theme-code-foreground, var(--jp-content-font-color1, black)));\n",
       "  --sklearn-color-background: var(--sg-background-color, var(--theme-background, var(--jp-layout-color0, white)));\n",
       "  --sklearn-color-border-box: var(--sg-text-color, var(--theme-code-foreground, var(--jp-content-font-color1, black)));\n",
       "  --sklearn-color-icon: #696969;\n",
       "\n",
       "  @media (prefers-color-scheme: dark) {\n",
       "    /* Redefinition of color scheme for dark theme */\n",
       "    --sklearn-color-text-on-default-background: var(--sg-text-color, var(--theme-code-foreground, var(--jp-content-font-color1, white)));\n",
       "    --sklearn-color-background: var(--sg-background-color, var(--theme-background, var(--jp-layout-color0, #111)));\n",
       "    --sklearn-color-border-box: var(--sg-text-color, var(--theme-code-foreground, var(--jp-content-font-color1, white)));\n",
       "    --sklearn-color-icon: #878787;\n",
       "  }\n",
       "}\n",
       "\n",
       "#sk-container-id-2 {\n",
       "  color: var(--sklearn-color-text);\n",
       "}\n",
       "\n",
       "#sk-container-id-2 pre {\n",
       "  padding: 0;\n",
       "}\n",
       "\n",
       "#sk-container-id-2 input.sk-hidden--visually {\n",
       "  border: 0;\n",
       "  clip: rect(1px 1px 1px 1px);\n",
       "  clip: rect(1px, 1px, 1px, 1px);\n",
       "  height: 1px;\n",
       "  margin: -1px;\n",
       "  overflow: hidden;\n",
       "  padding: 0;\n",
       "  position: absolute;\n",
       "  width: 1px;\n",
       "}\n",
       "\n",
       "#sk-container-id-2 div.sk-dashed-wrapped {\n",
       "  border: 1px dashed var(--sklearn-color-line);\n",
       "  margin: 0 0.4em 0.5em 0.4em;\n",
       "  box-sizing: border-box;\n",
       "  padding-bottom: 0.4em;\n",
       "  background-color: var(--sklearn-color-background);\n",
       "}\n",
       "\n",
       "#sk-container-id-2 div.sk-container {\n",
       "  /* jupyter's `normalize.less` sets `[hidden] { display: none; }`\n",
       "     but bootstrap.min.css set `[hidden] { display: none !important; }`\n",
       "     so we also need the `!important` here to be able to override the\n",
       "     default hidden behavior on the sphinx rendered scikit-learn.org.\n",
       "     See: https://github.com/scikit-learn/scikit-learn/issues/21755 */\n",
       "  display: inline-block !important;\n",
       "  position: relative;\n",
       "}\n",
       "\n",
       "#sk-container-id-2 div.sk-text-repr-fallback {\n",
       "  display: none;\n",
       "}\n",
       "\n",
       "div.sk-parallel-item,\n",
       "div.sk-serial,\n",
       "div.sk-item {\n",
       "  /* draw centered vertical line to link estimators */\n",
       "  background-image: linear-gradient(var(--sklearn-color-text-on-default-background), var(--sklearn-color-text-on-default-background));\n",
       "  background-size: 2px 100%;\n",
       "  background-repeat: no-repeat;\n",
       "  background-position: center center;\n",
       "}\n",
       "\n",
       "/* Parallel-specific style estimator block */\n",
       "\n",
       "#sk-container-id-2 div.sk-parallel-item::after {\n",
       "  content: \"\";\n",
       "  width: 100%;\n",
       "  border-bottom: 2px solid var(--sklearn-color-text-on-default-background);\n",
       "  flex-grow: 1;\n",
       "}\n",
       "\n",
       "#sk-container-id-2 div.sk-parallel {\n",
       "  display: flex;\n",
       "  align-items: stretch;\n",
       "  justify-content: center;\n",
       "  background-color: var(--sklearn-color-background);\n",
       "  position: relative;\n",
       "}\n",
       "\n",
       "#sk-container-id-2 div.sk-parallel-item {\n",
       "  display: flex;\n",
       "  flex-direction: column;\n",
       "}\n",
       "\n",
       "#sk-container-id-2 div.sk-parallel-item:first-child::after {\n",
       "  align-self: flex-end;\n",
       "  width: 50%;\n",
       "}\n",
       "\n",
       "#sk-container-id-2 div.sk-parallel-item:last-child::after {\n",
       "  align-self: flex-start;\n",
       "  width: 50%;\n",
       "}\n",
       "\n",
       "#sk-container-id-2 div.sk-parallel-item:only-child::after {\n",
       "  width: 0;\n",
       "}\n",
       "\n",
       "/* Serial-specific style estimator block */\n",
       "\n",
       "#sk-container-id-2 div.sk-serial {\n",
       "  display: flex;\n",
       "  flex-direction: column;\n",
       "  align-items: center;\n",
       "  background-color: var(--sklearn-color-background);\n",
       "  padding-right: 1em;\n",
       "  padding-left: 1em;\n",
       "}\n",
       "\n",
       "\n",
       "/* Toggleable style: style used for estimator/Pipeline/ColumnTransformer box that is\n",
       "clickable and can be expanded/collapsed.\n",
       "- Pipeline and ColumnTransformer use this feature and define the default style\n",
       "- Estimators will overwrite some part of the style using the `sk-estimator` class\n",
       "*/\n",
       "\n",
       "/* Pipeline and ColumnTransformer style (default) */\n",
       "\n",
       "#sk-container-id-2 div.sk-toggleable {\n",
       "  /* Default theme specific background. It is overwritten whether we have a\n",
       "  specific estimator or a Pipeline/ColumnTransformer */\n",
       "  background-color: var(--sklearn-color-background);\n",
       "}\n",
       "\n",
       "/* Toggleable label */\n",
       "#sk-container-id-2 label.sk-toggleable__label {\n",
       "  cursor: pointer;\n",
       "  display: block;\n",
       "  width: 100%;\n",
       "  margin-bottom: 0;\n",
       "  padding: 0.5em;\n",
       "  box-sizing: border-box;\n",
       "  text-align: center;\n",
       "}\n",
       "\n",
       "#sk-container-id-2 label.sk-toggleable__label-arrow:before {\n",
       "  /* Arrow on the left of the label */\n",
       "  content: \"▸\";\n",
       "  float: left;\n",
       "  margin-right: 0.25em;\n",
       "  color: var(--sklearn-color-icon);\n",
       "}\n",
       "\n",
       "#sk-container-id-2 label.sk-toggleable__label-arrow:hover:before {\n",
       "  color: var(--sklearn-color-text);\n",
       "}\n",
       "\n",
       "/* Toggleable content - dropdown */\n",
       "\n",
       "#sk-container-id-2 div.sk-toggleable__content {\n",
       "  max-height: 0;\n",
       "  max-width: 0;\n",
       "  overflow: hidden;\n",
       "  text-align: left;\n",
       "  /* unfitted */\n",
       "  background-color: var(--sklearn-color-unfitted-level-0);\n",
       "}\n",
       "\n",
       "#sk-container-id-2 div.sk-toggleable__content.fitted {\n",
       "  /* fitted */\n",
       "  background-color: var(--sklearn-color-fitted-level-0);\n",
       "}\n",
       "\n",
       "#sk-container-id-2 div.sk-toggleable__content pre {\n",
       "  margin: 0.2em;\n",
       "  border-radius: 0.25em;\n",
       "  color: var(--sklearn-color-text);\n",
       "  /* unfitted */\n",
       "  background-color: var(--sklearn-color-unfitted-level-0);\n",
       "}\n",
       "\n",
       "#sk-container-id-2 div.sk-toggleable__content.fitted pre {\n",
       "  /* unfitted */\n",
       "  background-color: var(--sklearn-color-fitted-level-0);\n",
       "}\n",
       "\n",
       "#sk-container-id-2 input.sk-toggleable__control:checked~div.sk-toggleable__content {\n",
       "  /* Expand drop-down */\n",
       "  max-height: 200px;\n",
       "  max-width: 100%;\n",
       "  overflow: auto;\n",
       "}\n",
       "\n",
       "#sk-container-id-2 input.sk-toggleable__control:checked~label.sk-toggleable__label-arrow:before {\n",
       "  content: \"▾\";\n",
       "}\n",
       "\n",
       "/* Pipeline/ColumnTransformer-specific style */\n",
       "\n",
       "#sk-container-id-2 div.sk-label input.sk-toggleable__control:checked~label.sk-toggleable__label {\n",
       "  color: var(--sklearn-color-text);\n",
       "  background-color: var(--sklearn-color-unfitted-level-2);\n",
       "}\n",
       "\n",
       "#sk-container-id-2 div.sk-label.fitted input.sk-toggleable__control:checked~label.sk-toggleable__label {\n",
       "  background-color: var(--sklearn-color-fitted-level-2);\n",
       "}\n",
       "\n",
       "/* Estimator-specific style */\n",
       "\n",
       "/* Colorize estimator box */\n",
       "#sk-container-id-2 div.sk-estimator input.sk-toggleable__control:checked~label.sk-toggleable__label {\n",
       "  /* unfitted */\n",
       "  background-color: var(--sklearn-color-unfitted-level-2);\n",
       "}\n",
       "\n",
       "#sk-container-id-2 div.sk-estimator.fitted input.sk-toggleable__control:checked~label.sk-toggleable__label {\n",
       "  /* fitted */\n",
       "  background-color: var(--sklearn-color-fitted-level-2);\n",
       "}\n",
       "\n",
       "#sk-container-id-2 div.sk-label label.sk-toggleable__label,\n",
       "#sk-container-id-2 div.sk-label label {\n",
       "  /* The background is the default theme color */\n",
       "  color: var(--sklearn-color-text-on-default-background);\n",
       "}\n",
       "\n",
       "/* On hover, darken the color of the background */\n",
       "#sk-container-id-2 div.sk-label:hover label.sk-toggleable__label {\n",
       "  color: var(--sklearn-color-text);\n",
       "  background-color: var(--sklearn-color-unfitted-level-2);\n",
       "}\n",
       "\n",
       "/* Label box, darken color on hover, fitted */\n",
       "#sk-container-id-2 div.sk-label.fitted:hover label.sk-toggleable__label.fitted {\n",
       "  color: var(--sklearn-color-text);\n",
       "  background-color: var(--sklearn-color-fitted-level-2);\n",
       "}\n",
       "\n",
       "/* Estimator label */\n",
       "\n",
       "#sk-container-id-2 div.sk-label label {\n",
       "  font-family: monospace;\n",
       "  font-weight: bold;\n",
       "  display: inline-block;\n",
       "  line-height: 1.2em;\n",
       "}\n",
       "\n",
       "#sk-container-id-2 div.sk-label-container {\n",
       "  text-align: center;\n",
       "}\n",
       "\n",
       "/* Estimator-specific */\n",
       "#sk-container-id-2 div.sk-estimator {\n",
       "  font-family: monospace;\n",
       "  border: 1px dotted var(--sklearn-color-border-box);\n",
       "  border-radius: 0.25em;\n",
       "  box-sizing: border-box;\n",
       "  margin-bottom: 0.5em;\n",
       "  /* unfitted */\n",
       "  background-color: var(--sklearn-color-unfitted-level-0);\n",
       "}\n",
       "\n",
       "#sk-container-id-2 div.sk-estimator.fitted {\n",
       "  /* fitted */\n",
       "  background-color: var(--sklearn-color-fitted-level-0);\n",
       "}\n",
       "\n",
       "/* on hover */\n",
       "#sk-container-id-2 div.sk-estimator:hover {\n",
       "  /* unfitted */\n",
       "  background-color: var(--sklearn-color-unfitted-level-2);\n",
       "}\n",
       "\n",
       "#sk-container-id-2 div.sk-estimator.fitted:hover {\n",
       "  /* fitted */\n",
       "  background-color: var(--sklearn-color-fitted-level-2);\n",
       "}\n",
       "\n",
       "/* Specification for estimator info (e.g. \"i\" and \"?\") */\n",
       "\n",
       "/* Common style for \"i\" and \"?\" */\n",
       "\n",
       ".sk-estimator-doc-link,\n",
       "a:link.sk-estimator-doc-link,\n",
       "a:visited.sk-estimator-doc-link {\n",
       "  float: right;\n",
       "  font-size: smaller;\n",
       "  line-height: 1em;\n",
       "  font-family: monospace;\n",
       "  background-color: var(--sklearn-color-background);\n",
       "  border-radius: 1em;\n",
       "  height: 1em;\n",
       "  width: 1em;\n",
       "  text-decoration: none !important;\n",
       "  margin-left: 1ex;\n",
       "  /* unfitted */\n",
       "  border: var(--sklearn-color-unfitted-level-1) 1pt solid;\n",
       "  color: var(--sklearn-color-unfitted-level-1);\n",
       "}\n",
       "\n",
       ".sk-estimator-doc-link.fitted,\n",
       "a:link.sk-estimator-doc-link.fitted,\n",
       "a:visited.sk-estimator-doc-link.fitted {\n",
       "  /* fitted */\n",
       "  border: var(--sklearn-color-fitted-level-1) 1pt solid;\n",
       "  color: var(--sklearn-color-fitted-level-1);\n",
       "}\n",
       "\n",
       "/* On hover */\n",
       "div.sk-estimator:hover .sk-estimator-doc-link:hover,\n",
       ".sk-estimator-doc-link:hover,\n",
       "div.sk-label-container:hover .sk-estimator-doc-link:hover,\n",
       ".sk-estimator-doc-link:hover {\n",
       "  /* unfitted */\n",
       "  background-color: var(--sklearn-color-unfitted-level-3);\n",
       "  color: var(--sklearn-color-background);\n",
       "  text-decoration: none;\n",
       "}\n",
       "\n",
       "div.sk-estimator.fitted:hover .sk-estimator-doc-link.fitted:hover,\n",
       ".sk-estimator-doc-link.fitted:hover,\n",
       "div.sk-label-container:hover .sk-estimator-doc-link.fitted:hover,\n",
       ".sk-estimator-doc-link.fitted:hover {\n",
       "  /* fitted */\n",
       "  background-color: var(--sklearn-color-fitted-level-3);\n",
       "  color: var(--sklearn-color-background);\n",
       "  text-decoration: none;\n",
       "}\n",
       "\n",
       "/* Span, style for the box shown on hovering the info icon */\n",
       ".sk-estimator-doc-link span {\n",
       "  display: none;\n",
       "  z-index: 9999;\n",
       "  position: relative;\n",
       "  font-weight: normal;\n",
       "  right: .2ex;\n",
       "  padding: .5ex;\n",
       "  margin: .5ex;\n",
       "  width: min-content;\n",
       "  min-width: 20ex;\n",
       "  max-width: 50ex;\n",
       "  color: var(--sklearn-color-text);\n",
       "  box-shadow: 2pt 2pt 4pt #999;\n",
       "  /* unfitted */\n",
       "  background: var(--sklearn-color-unfitted-level-0);\n",
       "  border: .5pt solid var(--sklearn-color-unfitted-level-3);\n",
       "}\n",
       "\n",
       ".sk-estimator-doc-link.fitted span {\n",
       "  /* fitted */\n",
       "  background: var(--sklearn-color-fitted-level-0);\n",
       "  border: var(--sklearn-color-fitted-level-3);\n",
       "}\n",
       "\n",
       ".sk-estimator-doc-link:hover span {\n",
       "  display: block;\n",
       "}\n",
       "\n",
       "/* \"?\"-specific style due to the `<a>` HTML tag */\n",
       "\n",
       "#sk-container-id-2 a.estimator_doc_link {\n",
       "  float: right;\n",
       "  font-size: 1rem;\n",
       "  line-height: 1em;\n",
       "  font-family: monospace;\n",
       "  background-color: var(--sklearn-color-background);\n",
       "  border-radius: 1rem;\n",
       "  height: 1rem;\n",
       "  width: 1rem;\n",
       "  text-decoration: none;\n",
       "  /* unfitted */\n",
       "  color: var(--sklearn-color-unfitted-level-1);\n",
       "  border: var(--sklearn-color-unfitted-level-1) 1pt solid;\n",
       "}\n",
       "\n",
       "#sk-container-id-2 a.estimator_doc_link.fitted {\n",
       "  /* fitted */\n",
       "  border: var(--sklearn-color-fitted-level-1) 1pt solid;\n",
       "  color: var(--sklearn-color-fitted-level-1);\n",
       "}\n",
       "\n",
       "/* On hover */\n",
       "#sk-container-id-2 a.estimator_doc_link:hover {\n",
       "  /* unfitted */\n",
       "  background-color: var(--sklearn-color-unfitted-level-3);\n",
       "  color: var(--sklearn-color-background);\n",
       "  text-decoration: none;\n",
       "}\n",
       "\n",
       "#sk-container-id-2 a.estimator_doc_link.fitted:hover {\n",
       "  /* fitted */\n",
       "  background-color: var(--sklearn-color-fitted-level-3);\n",
       "}\n",
       "</style><div id=\"sk-container-id-2\" class=\"sk-top-container\"><div class=\"sk-text-repr-fallback\"><pre>LinearRegression()</pre><b>In a Jupyter environment, please rerun this cell to show the HTML representation or trust the notebook. <br />On GitHub, the HTML representation is unable to render, please try loading this page with nbviewer.org.</b></div><div class=\"sk-container\" hidden><div class=\"sk-item\"><div class=\"sk-estimator fitted sk-toggleable\"><input class=\"sk-toggleable__control sk-hidden--visually\" id=\"sk-estimator-id-2\" type=\"checkbox\" checked><label for=\"sk-estimator-id-2\" class=\"sk-toggleable__label fitted sk-toggleable__label-arrow fitted\">&nbsp;&nbsp;LinearRegression<a class=\"sk-estimator-doc-link fitted\" rel=\"noreferrer\" target=\"_blank\" href=\"https://scikit-learn.org/1.4/modules/generated/sklearn.linear_model.LinearRegression.html\">?<span>Documentation for LinearRegression</span></a><span class=\"sk-estimator-doc-link fitted\">i<span>Fitted</span></span></label><div class=\"sk-toggleable__content fitted\"><pre>LinearRegression()</pre></div> </div></div></div></div>"
      ],
      "text/plain": [
       "LinearRegression()"
      ]
     },
     "execution_count": 128,
     "metadata": {},
     "output_type": "execute_result"
    }
   ],
   "source": [
    "linear_regression.fit(X=X_train, y=y_train)"
   ]
  },
  {
   "cell_type": "code",
   "execution_count": 130,
   "metadata": {
    "colab": {
     "base_uri": "https://localhost:8080/"
    },
    "executionInfo": {
     "elapsed": 257,
     "status": "ok",
     "timestamp": 1697539247398,
     "user": {
      "displayName": "Antesar Shabut",
      "userId": "04854207091221281884"
     },
     "user_tz": -60
    },
    "id": "AYGOfWpXyuzI",
    "outputId": "bed04c10-1e6d-4e7d-ec91-2c281b5ad0e8"
   },
   "outputs": [
    {
     "data": {
      "text/plain": [
       "array([0.01939167])"
      ]
     },
     "execution_count": 130,
     "metadata": {},
     "output_type": "execute_result"
    }
   ],
   "source": [
    "# The coef_ is m in the equation y = mx + b\n",
    "linear_regression.coef_"
   ]
  },
  {
   "cell_type": "code",
   "execution_count": 132,
   "metadata": {
    "colab": {
     "base_uri": "https://localhost:8080/"
    },
    "executionInfo": {
     "elapsed": 311,
     "status": "ok",
     "timestamp": 1697539278145,
     "user": {
      "displayName": "Antesar Shabut",
      "userId": "04854207091221281884"
     },
     "user_tz": -60
    },
    "id": "ICPkAjk7yuzJ",
    "outputId": "ed394745-43c4-41a0-ec29-8ed10cd7cbf7"
   },
   "outputs": [
    {
     "data": {
      "text/plain": [
       "-0.30779820252657686"
      ]
     },
     "execution_count": 132,
     "metadata": {},
     "output_type": "execute_result"
    }
   ],
   "source": [
    "# The intercept_ is b in the equation y = mx + b\n",
    "linear_regression.intercept_"
   ]
  },
  {
   "cell_type": "markdown",
   "metadata": {
    "id": "_P3_-decyuzJ"
   },
   "source": [
    "### Testing the Model"
   ]
  },
  {
   "cell_type": "code",
   "execution_count": 135,
   "metadata": {
    "executionInfo": {
     "elapsed": 438,
     "status": "ok",
     "timestamp": 1697539307333,
     "user": {
      "displayName": "Antesar Shabut",
      "userId": "04854207091221281884"
     },
     "user_tz": -60
    },
    "id": "iPjMqa1JyuzK"
   },
   "outputs": [],
   "source": [
    "predicted = linear_regression.predict(X_test)"
   ]
  },
  {
   "cell_type": "code",
   "execution_count": 137,
   "metadata": {
    "executionInfo": {
     "elapsed": 303,
     "status": "ok",
     "timestamp": 1697539314195,
     "user": {
      "displayName": "Antesar Shabut",
      "userId": "04854207091221281884"
     },
     "user_tz": -60
    },
    "id": "Ut_RswuxyuzK"
   },
   "outputs": [],
   "source": [
    "expected = y_test"
   ]
  },
  {
   "cell_type": "code",
   "execution_count": 139,
   "metadata": {
    "colab": {
     "base_uri": "https://localhost:8080/"
    },
    "executionInfo": {
     "elapsed": 778,
     "status": "ok",
     "timestamp": 1697539330225,
     "user": {
      "displayName": "Antesar Shabut",
      "userId": "04854207091221281884"
     },
     "user_tz": -60
    },
    "id": "KsauqJCeyuzL",
    "outputId": "41dae391-b6fb-4aec-b2c8-a1a3c882fb0c"
   },
   "outputs": [
    {
     "name": "stdout",
     "output_type": "stream",
     "text": [
      "predicted: 37.86, expected: 31.70\n",
      "predicted: 38.69, expected: 34.80\n",
      "predicted: 37.00, expected: 39.40\n",
      "predicted: 37.25, expected: 45.70\n",
      "predicted: 38.05, expected: 32.30\n",
      "predicted: 37.64, expected: 33.80\n",
      "predicted: 36.94, expected: 39.70\n"
     ]
    }
   ],
   "source": [
    "# Print predicted and expected for the top 5 0samples\n",
    "for p, e in zip(predicted[::5], expected[::5]):\n",
    "     print(f'predicted: {p:.2f}, expected: {e:.2f}')"
   ]
  },
  {
   "cell_type": "markdown",
   "metadata": {
    "id": "YoikrrZsyuzL"
   },
   "source": [
    "### Predicting Future Temperatures and Estimating Past Temperatures"
   ]
  },
  {
   "cell_type": "code",
   "execution_count": 142,
   "metadata": {
    "executionInfo": {
     "elapsed": 302,
     "status": "ok",
     "timestamp": 1697539399084,
     "user": {
      "displayName": "Antesar Shabut",
      "userId": "04854207091221281884"
     },
     "user_tz": -60
    },
    "id": "VAnILwCeyuzL"
   },
   "outputs": [],
   "source": [
    "# Now it is the time to do new prediction using coef and intercept\n",
    "predict = (lambda x: linear_regression.coef_ * x +\n",
    "                      linear_regression.intercept_)"
   ]
  },
  {
   "cell_type": "code",
   "execution_count": 144,
   "metadata": {
    "colab": {
     "base_uri": "https://localhost:8080/"
    },
    "executionInfo": {
     "elapsed": 310,
     "status": "ok",
     "timestamp": 1697539426525,
     "user": {
      "displayName": "Antesar Shabut",
      "userId": "04854207091221281884"
     },
     "user_tz": -60
    },
    "id": "ZCP37go2yuzM",
    "outputId": "5d471129-56e2-4611-b9ac-70252ff22de7"
   },
   "outputs": [
    {
     "data": {
      "text/plain": [
       "array([38.84399018])"
      ]
     },
     "execution_count": 144,
     "metadata": {},
     "output_type": "execute_result"
    }
   ],
   "source": [
    "# Predict the average high temperature for January 2019\n",
    "predict(2019)"
   ]
  },
  {
   "cell_type": "code",
   "execution_count": 146,
   "metadata": {
    "colab": {
     "base_uri": "https://localhost:8080/"
    },
    "executionInfo": {
     "elapsed": 224,
     "status": "ok",
     "timestamp": 1697539444567,
     "user": {
      "displayName": "Antesar Shabut",
      "userId": "04854207091221281884"
     },
     "user_tz": -60
    },
    "id": "HJhkll-HyuzM",
    "outputId": "20df4c4b-49d3-4e55-a1ee-ad51e7741f78"
   },
   "outputs": [
    {
     "data": {
      "text/plain": [
       "array([36.34246432])"
      ]
     },
     "execution_count": 146,
     "metadata": {},
     "output_type": "execute_result"
    }
   ],
   "source": [
    "# # Predict the average high temperature for January 1890\n",
    "predict(1890)"
   ]
  },
  {
   "cell_type": "markdown",
   "metadata": {
    "id": "BCZJEO7XyuzM"
   },
   "source": [
    "### Visualizing the Dataset with the Regression Line"
   ]
  },
  {
   "cell_type": "code",
   "execution_count": 149,
   "metadata": {
    "executionInfo": {
     "elapsed": 481,
     "status": "ok",
     "timestamp": 1697539463601,
     "user": {
      "displayName": "Antesar Shabut",
      "userId": "04854207091221281884"
     },
     "user_tz": -60
    },
    "id": "OnpbfEDUyuzN"
   },
   "outputs": [],
   "source": [
    "import seaborn as sns"
   ]
  },
  {
   "cell_type": "code",
   "execution_count": 151,
   "metadata": {
    "colab": {
     "base_uri": "https://localhost:8080/",
     "height": 455
    },
    "executionInfo": {
     "elapsed": 1124,
     "status": "ok",
     "timestamp": 1697539479458,
     "user": {
      "displayName": "Antesar Shabut",
      "userId": "04854207091221281884"
     },
     "user_tz": -60
    },
    "id": "k3zJH42eyuzN",
    "outputId": "b13b94b8-44c1-4038-9a50-c79fd4cc6286"
   },
   "outputs": [
    {
     "data": {
      "image/png": "[encoded data removed]",
      "text/plain": [
       "<Figure size 640x480 with 1 Axes>"
      ]
     },
     "metadata": {},
     "output_type": "display_data"
    }
   ],
   "source": [
    "# Try with legend = True\n",
    "axes = sns.scatterplot(data=nyc, x='Date', y='Temperature',\n",
    "     hue='Temperature', palette='winter', legend=False)\n",
    "\n",
    "axes.set_ylim(10, 70)\n",
    "\n",
    "import numpy as np\n",
    "\n",
    "x = np.array([min(nyc.Date.values), max(nyc.Date.values)])\n",
    "\n",
    "y = predict(x)\n",
    "\n",
    "import matplotlib.pyplot as plt\n",
    "\n",
    "line = plt.plot(x, y)\n",
    "\n",
    "# Try with legend = True"
   ]
  },
  {
   "cell_type": "code",
   "execution_count": 153,
   "metadata": {
    "id": "qcgNWdmWyuzO"
   },
   "outputs": [
    {
     "data": {
      "text/plain": [
       "array([36.32307265])"
      ]
     },
     "execution_count": 153,
     "metadata": {},
     "output_type": "execute_result"
    }
   ],
   "source": [
    "# Now predict the average high temperature for 1889\n",
    "\n",
    "predict(1889)"
   ]
  },
  {
   "cell_type": "code",
   "execution_count": 155,
   "metadata": {
    "id": "a-TX56QoyuzO"
   },
   "outputs": [
    {
     "data": {
      "text/plain": [
       "array([38.86338185])"
      ]
     },
     "execution_count": 155,
     "metadata": {},
     "output_type": "execute_result"
    }
   ],
   "source": [
    "# Now predict the average high temperature for 2020\n",
    "\n",
    "predict(2020)"
   ]
  },
  {
   "cell_type": "code",
   "execution_count": null,
   "metadata": {
    "id": "q0Pdz0C2yuzO"
   },
   "outputs": [],
   "source": [
    "# Well done you made it\n",
    "\n",
    "##########################################################################\n",
    "# Source: 2019 by Deitel & Associates, Inc. and                          #\n",
    "# Pearson Education, Inc. All Rights Reserved.                           #\n",
    "#                                                                        #\n",
    "##########################################################################\n"
   ]
  }
 ],
 "metadata": {
  "colab": {
   "provenance": []
  },
  "kernelspec": {
   "display_name": "Python 3 (ipykernel)",
   "language": "python",
   "name": "python3"
  },
  "language_info": {
   "codemirror_mode": {
    "name": "ipython",
    "version": 3
   },
   "file_extension": ".py",
   "mimetype": "text/x-python",
   "name": "python",
   "nbconvert_exporter": "python",
   "pygments_lexer": "ipython3",
   "version": "3.12.4"
  }
 },
 "nbformat": 4,
 "nbformat_minor": 4
}
