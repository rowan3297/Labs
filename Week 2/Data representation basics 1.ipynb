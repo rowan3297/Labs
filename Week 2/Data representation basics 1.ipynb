{
 "cells": [
  {
   "cell_type": "markdown",
   "metadata": {
    "id": "UvfVZtgDIPwX"
   },
   "source": [
    "# Data Preparation Basics\n",
    "## Part 1 - Filtering and selecting data"
   ]
  },
  {
   "cell_type": "markdown",
   "metadata": {
    "id": "uBBvrIgeY5Gs"
   },
   "source": [
    "What is NumPy, and what is its primary purpose in Python?\n",
    "\n",
    "What is Pandas, and what is its primary purpose in Python?\n",
    "\n",
    "Use an empty cell to answer these questions.\n",
    "\n"
   ]
  },
  {
   "cell_type": "code",
   "execution_count": 1,
   "metadata": {
    "executionInfo": {
     "elapsed": 620,
     "status": "ok",
     "timestamp": 1696326650014,
     "user": {
      "displayName": "Antesar Shabut",
      "userId": "04854207091221281884"
     },
     "user_tz": -60
    },
    "id": "wEMa2gKuIPwf"
   },
   "outputs": [],
   "source": [
    "# Import important libraray\n",
    "import numpy as np\n",
    "import pandas as pd\n",
    "\n",
    "# Two data types: Series and DataFrame\n",
    "# Series can only contain single list with index\n",
    "# Dataframe is a collection of series that can be used to analyse the data (a table with rows and columns)\n",
    "from pandas import Series, DataFrame"
   ]
  },
  {
   "cell_type": "code",
   "execution_count": 2,
   "metadata": {
    "colab": {
     "base_uri": "https://localhost:8080/"
    },
    "executionInfo": {
     "elapsed": 440,
     "status": "ok",
     "timestamp": 1696326703683,
     "user": {
      "displayName": "Antesar Shabut",
      "userId": "04854207091221281884"
     },
     "user_tz": -60
    },
    "id": "OXMVQeaLIPwj",
    "outputId": "8fcdb096-3edd-454a-8f22-424b113b0b89"
   },
   "outputs": [
    {
     "data": {
      "text/plain": [
       "row 1     0\n",
       "row 2     1\n",
       "row 3     2\n",
       "row 4     3\n",
       "row 5     4\n",
       "row 6     5\n",
       "row 7     6\n",
       "row 8     7\n",
       "row 9     8\n",
       "row 10    9\n",
       "dtype: int32"
      ]
     },
     "execution_count": 2,
     "metadata": {},
     "output_type": "execute_result"
    }
   ],
   "source": [
    "# Without an index\n",
    "#serios_obj = Series(np.arange(10))\n",
    "#serios_obj\n",
    "# With an index\n",
    "# Practise both\n",
    "series_obj = Series(np.arange(10), index=['row 1', 'row 2', 'row 3', 'row 4', 'row 5', 'row 6','row 7', 'row 8', 'row 9', 'row 10'])\n",
    "series_obj"
   ]
  },
  {
   "cell_type": "code",
   "execution_count": 5,
   "metadata": {
    "colab": {
     "base_uri": "https://localhost:8080/"
    },
    "executionInfo": {
     "elapsed": 421,
     "status": "ok",
     "timestamp": 1696326766351,
     "user": {
      "displayName": "Antesar Shabut",
      "userId": "04854207091221281884"
     },
     "user_tz": -60
    },
    "id": "YzsEekNeIPwm",
    "outputId": "3c221a94-f60c-40d3-b8e1-d5c0378cc286"
   },
   "outputs": [
    {
     "data": {
      "text/plain": [
       "6"
      ]
     },
     "execution_count": 5,
     "metadata": {},
     "output_type": "execute_result"
    }
   ],
   "source": [
    "# Print the index of row 7\n",
    "series_obj['row 7']"
   ]
  },
  {
   "cell_type": "code",
   "execution_count": 7,
   "metadata": {
    "colab": {
     "base_uri": "https://localhost:8080/"
    },
    "executionInfo": {
     "elapsed": 1130,
     "status": "ok",
     "timestamp": 1696326793487,
     "user": {
      "displayName": "Antesar Shabut",
      "userId": "04854207091221281884"
     },
     "user_tz": -60
    },
    "id": "wwKWe_MVIPwn",
    "outputId": "b0d6b524-d8c8-4b2a-db48-05256bd0c792",
    "scrolled": true
   },
   "outputs": [
    {
     "name": "stderr",
     "output_type": "stream",
     "text": [
      "C:\\Users\\rowan\\AppData\\Local\\Temp\\ipykernel_15732\\2706347940.py:2: FutureWarning: Series.__getitem__ treating keys as positions is deprecated. In a future version, integer keys will always be treated as labels (consistent with DataFrame behavior). To access a value by position, use `ser.iloc[pos]`\n",
      "  series_obj[[0, 7]]\n"
     ]
    },
    {
     "data": {
      "text/plain": [
       "row 1    0\n",
       "row 8    7\n",
       "dtype: int32"
      ]
     },
     "execution_count": 7,
     "metadata": {},
     "output_type": "execute_result"
    }
   ],
   "source": [
    "# Print both indexes at row 1 & 8\n",
    "series_obj[[0, 7]]"
   ]
  },
  {
   "cell_type": "code",
   "execution_count": 9,
   "metadata": {
    "colab": {
     "base_uri": "https://localhost:8080/",
     "height": 237
    },
    "executionInfo": {
     "elapsed": 563,
     "status": "ok",
     "timestamp": 1696326970380,
     "user": {
      "displayName": "Antesar Shabut",
      "userId": "04854207091221281884"
     },
     "user_tz": -60
    },
    "id": "Dvt66cRgIPwo",
    "outputId": "d50a21e0-fac1-46b9-965d-7d5f13a4490d"
   },
   "outputs": [
    {
     "data": {
      "text/html": [
       "<div>\n",
       "<style scoped>\n",
       "    .dataframe tbody tr th:only-of-type {\n",
       "        vertical-align: middle;\n",
       "    }\n",
       "\n",
       "    .dataframe tbody tr th {\n",
       "        vertical-align: top;\n",
       "    }\n",
       "\n",
       "    .dataframe thead th {\n",
       "        text-align: right;\n",
       "    }\n",
       "</style>\n",
       "<table border=\"1\" class=\"dataframe\">\n",
       "  <thead>\n",
       "    <tr style=\"text-align: right;\">\n",
       "      <th></th>\n",
       "      <th>column 1</th>\n",
       "      <th>column 2</th>\n",
       "      <th>column 3</th>\n",
       "      <th>column 4</th>\n",
       "      <th>column 5</th>\n",
       "      <th>column 6</th>\n",
       "    </tr>\n",
       "  </thead>\n",
       "  <tbody>\n",
       "    <tr>\n",
       "      <th>row 1</th>\n",
       "      <td>0.870124</td>\n",
       "      <td>0.582277</td>\n",
       "      <td>0.278839</td>\n",
       "      <td>0.185911</td>\n",
       "      <td>0.411100</td>\n",
       "      <td>0.117376</td>\n",
       "    </tr>\n",
       "    <tr>\n",
       "      <th>row 2</th>\n",
       "      <td>0.684969</td>\n",
       "      <td>0.437611</td>\n",
       "      <td>0.556229</td>\n",
       "      <td>0.367080</td>\n",
       "      <td>0.402366</td>\n",
       "      <td>0.113041</td>\n",
       "    </tr>\n",
       "    <tr>\n",
       "      <th>row 3</th>\n",
       "      <td>0.447031</td>\n",
       "      <td>0.585445</td>\n",
       "      <td>0.161985</td>\n",
       "      <td>0.520719</td>\n",
       "      <td>0.326051</td>\n",
       "      <td>0.699186</td>\n",
       "    </tr>\n",
       "    <tr>\n",
       "      <th>row 4</th>\n",
       "      <td>0.366395</td>\n",
       "      <td>0.836375</td>\n",
       "      <td>0.481343</td>\n",
       "      <td>0.516502</td>\n",
       "      <td>0.383048</td>\n",
       "      <td>0.997541</td>\n",
       "    </tr>\n",
       "    <tr>\n",
       "      <th>row 5</th>\n",
       "      <td>0.514244</td>\n",
       "      <td>0.559053</td>\n",
       "      <td>0.034450</td>\n",
       "      <td>0.719930</td>\n",
       "      <td>0.421004</td>\n",
       "      <td>0.436935</td>\n",
       "    </tr>\n",
       "    <tr>\n",
       "      <th>row 6</th>\n",
       "      <td>0.281701</td>\n",
       "      <td>0.900274</td>\n",
       "      <td>0.669612</td>\n",
       "      <td>0.456069</td>\n",
       "      <td>0.289804</td>\n",
       "      <td>0.525819</td>\n",
       "    </tr>\n",
       "  </tbody>\n",
       "</table>\n",
       "</div>"
      ],
      "text/plain": [
       "       column 1  column 2  column 3  column 4  column 5  column 6\n",
       "row 1  0.870124  0.582277  0.278839  0.185911  0.411100  0.117376\n",
       "row 2  0.684969  0.437611  0.556229  0.367080  0.402366  0.113041\n",
       "row 3  0.447031  0.585445  0.161985  0.520719  0.326051  0.699186\n",
       "row 4  0.366395  0.836375  0.481343  0.516502  0.383048  0.997541\n",
       "row 5  0.514244  0.559053  0.034450  0.719930  0.421004  0.436935\n",
       "row 6  0.281701  0.900274  0.669612  0.456069  0.289804  0.525819"
      ]
     },
     "execution_count": 9,
     "metadata": {},
     "output_type": "execute_result"
    }
   ],
   "source": [
    "# Populate the list with random values\n",
    "np.random.seed(25)\n",
    "\n",
    "# Search random.seed in Python and provide an explaniation here: ...\n",
    "# What does seed function do?\n",
    "DF_obj = DataFrame(np.random.rand(36).reshape((6,6)),\n",
    "                   index=['row 1', 'row 2', 'row 3', 'row 4','row 5','row 6'],\n",
    "                   columns=['column 1','column 2','column 3','column 4','column 5','column 6'])\n",
    "DF_obj\n",
    "\n",
    "# Run the above code with and without np.random.seed and reflect on the difference here: ..."
   ]
  },
  {
   "cell_type": "code",
   "execution_count": 11,
   "metadata": {
    "colab": {
     "base_uri": "https://localhost:8080/",
     "height": 112
    },
    "executionInfo": {
     "elapsed": 521,
     "status": "ok",
     "timestamp": 1696327105506,
     "user": {
      "displayName": "Antesar Shabut",
      "userId": "04854207091221281884"
     },
     "user_tz": -60
    },
    "id": "CFL3jvW6IPwp",
    "outputId": "a9d31ddc-d4a9-4e1f-96c3-0d8eed0b3ccc"
   },
   "outputs": [
    {
     "data": {
      "text/html": [
       "<div>\n",
       "<style scoped>\n",
       "    .dataframe tbody tr th:only-of-type {\n",
       "        vertical-align: middle;\n",
       "    }\n",
       "\n",
       "    .dataframe tbody tr th {\n",
       "        vertical-align: top;\n",
       "    }\n",
       "\n",
       "    .dataframe thead th {\n",
       "        text-align: right;\n",
       "    }\n",
       "</style>\n",
       "<table border=\"1\" class=\"dataframe\">\n",
       "  <thead>\n",
       "    <tr style=\"text-align: right;\">\n",
       "      <th></th>\n",
       "      <th>column 5</th>\n",
       "      <th>column 2</th>\n",
       "    </tr>\n",
       "  </thead>\n",
       "  <tbody>\n",
       "    <tr>\n",
       "      <th>row 2</th>\n",
       "      <td>0.402366</td>\n",
       "      <td>0.437611</td>\n",
       "    </tr>\n",
       "    <tr>\n",
       "      <th>row 5</th>\n",
       "      <td>0.421004</td>\n",
       "      <td>0.559053</td>\n",
       "    </tr>\n",
       "  </tbody>\n",
       "</table>\n",
       "</div>"
      ],
      "text/plain": [
       "       column 5  column 2\n",
       "row 2  0.402366  0.437611\n",
       "row 5  0.421004  0.559053"
      ]
     },
     "execution_count": 11,
     "metadata": {},
     "output_type": "execute_result"
    }
   ],
   "source": [
    "#Find data at different location\n",
    "DF_obj.loc[['row 2', 'row 5'], ['column 5', 'column 2']]\n",
    "# What does loc function do? chooses things at the given locations"
   ]
  },
  {
   "cell_type": "markdown",
   "metadata": {
    "id": "vGqy2rmXIPwr"
   },
   "source": [
    "### Data slicing\n",
    "You can use slicing to select and return a slice of several values from a data set. Slicing uses index values so you can use the same square brackets when doing data slicing.\n",
    "\n",
    "How slicing differs, however, is that with slicing you pass in two index values that are separated by a colon. The index value on the left side of the colon should be the first value you want to select. On the right side of the colon, you write the index value for the last value you want to retrieve. When you execute the code, the indexer then simply finds the first record and the last record and returns every record in between them."
   ]
  },
  {
   "cell_type": "code",
   "execution_count": 8,
   "metadata": {
    "colab": {
     "base_uri": "https://localhost:8080/"
    },
    "executionInfo": {
     "elapsed": 1033,
     "status": "ok",
     "timestamp": 1696327150767,
     "user": {
      "displayName": "Antesar Shabut",
      "userId": "04854207091221281884"
     },
     "user_tz": -60
    },
    "id": "5XtmsnJVIPws",
    "outputId": "8824a78b-2ea1-488d-cb31-f3cca5c828f9"
   },
   "outputs": [
    {
     "data": {
      "text/plain": [
       "row 3    2\n",
       "row 4    3\n",
       "row 5    4\n",
       "row 6    5\n",
       "row 7    6\n",
       "dtype: int64"
      ]
     },
     "execution_count": 8,
     "metadata": {},
     "output_type": "execute_result"
    }
   ],
   "source": [
    "series_obj['row 3': 'row 7']"
   ]
  },
  {
   "cell_type": "markdown",
   "metadata": {
    "id": "r7-6LamIIPwt"
   },
   "source": [
    "### Comparing with scalars\n",
    "Now we're going to talk about comparison operators and scalar values. Just in case you don't know that a scalar value is, it's basically just a single numerical value. You can use comparison operators like greater than or less than to return true/false values for all records to indicate how each element compares to a scalar value."
   ]
  },
  {
   "cell_type": "code",
   "execution_count": 9,
   "metadata": {
    "colab": {
     "base_uri": "https://localhost:8080/",
     "height": 237
    },
    "executionInfo": {
     "elapsed": 833,
     "status": "ok",
     "timestamp": 1696327238324,
     "user": {
      "displayName": "Antesar Shabut",
      "userId": "04854207091221281884"
     },
     "user_tz": -60
    },
    "id": "KtILo0bmIPwu",
    "outputId": "c9eb8401-a903-4009-df3d-836624c52796",
    "scrolled": true
   },
   "outputs": [
    {
     "data": {
      "text/html": [
       "\n",
       "  <div id=\"df-fc7e6696-687d-4126-9ba6-321748870f17\" class=\"colab-df-container\">\n",
       "    <div>\n",
       "<style scoped>\n",
       "    .dataframe tbody tr th:only-of-type {\n",
       "        vertical-align: middle;\n",
       "    }\n",
       "\n",
       "    .dataframe tbody tr th {\n",
       "        vertical-align: top;\n",
       "    }\n",
       "\n",
       "    .dataframe thead th {\n",
       "        text-align: right;\n",
       "    }\n",
       "</style>\n",
       "<table border=\"1\" class=\"dataframe\">\n",
       "  <thead>\n",
       "    <tr style=\"text-align: right;\">\n",
       "      <th></th>\n",
       "      <th>column 1</th>\n",
       "      <th>column 2</th>\n",
       "      <th>column 3</th>\n",
       "      <th>column 4</th>\n",
       "      <th>column 5</th>\n",
       "      <th>column 6</th>\n",
       "    </tr>\n",
       "  </thead>\n",
       "  <tbody>\n",
       "    <tr>\n",
       "      <th>row 1</th>\n",
       "      <td>False</td>\n",
       "      <td>False</td>\n",
       "      <td>False</td>\n",
       "      <td>True</td>\n",
       "      <td>False</td>\n",
       "      <td>True</td>\n",
       "    </tr>\n",
       "    <tr>\n",
       "      <th>row 2</th>\n",
       "      <td>False</td>\n",
       "      <td>False</td>\n",
       "      <td>False</td>\n",
       "      <td>False</td>\n",
       "      <td>False</td>\n",
       "      <td>True</td>\n",
       "    </tr>\n",
       "    <tr>\n",
       "      <th>row 3</th>\n",
       "      <td>False</td>\n",
       "      <td>False</td>\n",
       "      <td>True</td>\n",
       "      <td>False</td>\n",
       "      <td>False</td>\n",
       "      <td>False</td>\n",
       "    </tr>\n",
       "    <tr>\n",
       "      <th>row 4</th>\n",
       "      <td>False</td>\n",
       "      <td>False</td>\n",
       "      <td>False</td>\n",
       "      <td>False</td>\n",
       "      <td>False</td>\n",
       "      <td>False</td>\n",
       "    </tr>\n",
       "    <tr>\n",
       "      <th>row 5</th>\n",
       "      <td>False</td>\n",
       "      <td>False</td>\n",
       "      <td>True</td>\n",
       "      <td>False</td>\n",
       "      <td>False</td>\n",
       "      <td>False</td>\n",
       "    </tr>\n",
       "    <tr>\n",
       "      <th>row 6</th>\n",
       "      <td>False</td>\n",
       "      <td>False</td>\n",
       "      <td>False</td>\n",
       "      <td>False</td>\n",
       "      <td>False</td>\n",
       "      <td>False</td>\n",
       "    </tr>\n",
       "  </tbody>\n",
       "</table>\n",
       "</div>\n",
       "    <div class=\"colab-df-buttons\">\n",
       "\n",
       "  <div class=\"colab-df-container\">\n",
       "    <button class=\"colab-df-convert\" onclick=\"convertToInteractive('df-fc7e6696-687d-4126-9ba6-321748870f17')\"\n",
       "            title=\"Convert this dataframe to an interactive table.\"\n",
       "            style=\"display:none;\">\n",
       "\n",
       "  <svg xmlns=\"http://www.w3.org/2000/svg\" height=\"24px\" viewBox=\"0 -960 960 960\">\n",
       "    <path d=\"M120-120v-720h720v720H120Zm60-500h600v-160H180v160Zm220 220h160v-160H400v160Zm0 220h160v-160H400v160ZM180-400h160v-160H180v160Zm440 0h160v-160H620v160ZM180-180h160v-160H180v160Zm440 0h160v-160H620v160Z\"/>\n",
       "  </svg>\n",
       "    </button>\n",
       "\n",
       "  <style>\n",
       "    .colab-df-container {\n",
       "      display:flex;\n",
       "      gap: 12px;\n",
       "    }\n",
       "\n",
       "    .colab-df-convert {\n",
       "      background-color: #E8F0FE;\n",
       "      border: none;\n",
       "      border-radius: 50%;\n",
       "      cursor: pointer;\n",
       "      display: none;\n",
       "      fill: #1967D2;\n",
       "      height: 32px;\n",
       "      padding: 0 0 0 0;\n",
       "      width: 32px;\n",
       "    }\n",
       "\n",
       "    .colab-df-convert:hover {\n",
       "      background-color: #E2EBFA;\n",
       "      box-shadow: 0px 1px 2px rgba(60, 64, 67, 0.3), 0px 1px 3px 1px rgba(60, 64, 67, 0.15);\n",
       "      fill: #174EA6;\n",
       "    }\n",
       "\n",
       "    .colab-df-buttons div {\n",
       "      margin-bottom: 4px;\n",
       "    }\n",
       "\n",
       "    [theme=dark] .colab-df-convert {\n",
       "      background-color: #3B4455;\n",
       "      fill: #D2E3FC;\n",
       "    }\n",
       "\n",
       "    [theme=dark] .colab-df-convert:hover {\n",
       "      background-color: #434B5C;\n",
       "      box-shadow: 0px 1px 3px 1px rgba(0, 0, 0, 0.15);\n",
       "      filter: drop-shadow(0px 1px 2px rgba(0, 0, 0, 0.3));\n",
       "      fill: #FFFFFF;\n",
       "    }\n",
       "  </style>\n",
       "\n",
       "    <script>\n",
       "      const buttonEl =\n",
       "        document.querySelector('#df-fc7e6696-687d-4126-9ba6-321748870f17 button.colab-df-convert');\n",
       "      buttonEl.style.display =\n",
       "        google.colab.kernel.accessAllowed ? 'block' : 'none';\n",
       "\n",
       "      async function convertToInteractive(key) {\n",
       "        const element = document.querySelector('#df-fc7e6696-687d-4126-9ba6-321748870f17');\n",
       "        const dataTable =\n",
       "          await google.colab.kernel.invokeFunction('convertToInteractive',\n",
       "                                                    [key], {});\n",
       "        if (!dataTable) return;\n",
       "\n",
       "        const docLinkHtml = 'Like what you see? Visit the ' +\n",
       "          '<a target=\"_blank\" href=https://colab.research.google.com/notebooks/data_table.ipynb>data table notebook</a>'\n",
       "          + ' to learn more about interactive tables.';\n",
       "        element.innerHTML = '';\n",
       "        dataTable['output_type'] = 'display_data';\n",
       "        await google.colab.output.renderOutput(dataTable, element);\n",
       "        const docLink = document.createElement('div');\n",
       "        docLink.innerHTML = docLinkHtml;\n",
       "        element.appendChild(docLink);\n",
       "      }\n",
       "    </script>\n",
       "  </div>\n",
       "\n",
       "\n",
       "<div id=\"df-388bd6a3-19ab-4e07-83ad-a1f8b038d1a2\">\n",
       "  <button class=\"colab-df-quickchart\" onclick=\"quickchart('df-388bd6a3-19ab-4e07-83ad-a1f8b038d1a2')\"\n",
       "            title=\"Suggest charts.\"\n",
       "            style=\"display:none;\">\n",
       "\n",
       "<svg xmlns=\"http://www.w3.org/2000/svg\" height=\"24px\"viewBox=\"0 0 24 24\"\n",
       "     width=\"24px\">\n",
       "    <g>\n",
       "        <path d=\"M19 3H5c-1.1 0-2 .9-2 2v14c0 1.1.9 2 2 2h14c1.1 0 2-.9 2-2V5c0-1.1-.9-2-2-2zM9 17H7v-7h2v7zm4 0h-2V7h2v10zm4 0h-2v-4h2v4z\"/>\n",
       "    </g>\n",
       "</svg>\n",
       "  </button>\n",
       "\n",
       "<style>\n",
       "  .colab-df-quickchart {\n",
       "      --bg-color: #E8F0FE;\n",
       "      --fill-color: #1967D2;\n",
       "      --hover-bg-color: #E2EBFA;\n",
       "      --hover-fill-color: #174EA6;\n",
       "      --disabled-fill-color: #AAA;\n",
       "      --disabled-bg-color: #DDD;\n",
       "  }\n",
       "\n",
       "  [theme=dark] .colab-df-quickchart {\n",
       "      --bg-color: #3B4455;\n",
       "      --fill-color: #D2E3FC;\n",
       "      --hover-bg-color: #434B5C;\n",
       "      --hover-fill-color: #FFFFFF;\n",
       "      --disabled-bg-color: #3B4455;\n",
       "      --disabled-fill-color: #666;\n",
       "  }\n",
       "\n",
       "  .colab-df-quickchart {\n",
       "    background-color: var(--bg-color);\n",
       "    border: none;\n",
       "    border-radius: 50%;\n",
       "    cursor: pointer;\n",
       "    display: none;\n",
       "    fill: var(--fill-color);\n",
       "    height: 32px;\n",
       "    padding: 0;\n",
       "    width: 32px;\n",
       "  }\n",
       "\n",
       "  .colab-df-quickchart:hover {\n",
       "    background-color: var(--hover-bg-color);\n",
       "    box-shadow: 0 1px 2px rgba(60, 64, 67, 0.3), 0 1px 3px 1px rgba(60, 64, 67, 0.15);\n",
       "    fill: var(--button-hover-fill-color);\n",
       "  }\n",
       "\n",
       "  .colab-df-quickchart-complete:disabled,\n",
       "  .colab-df-quickchart-complete:disabled:hover {\n",
       "    background-color: var(--disabled-bg-color);\n",
       "    fill: var(--disabled-fill-color);\n",
       "    box-shadow: none;\n",
       "  }\n",
       "\n",
       "  .colab-df-spinner {\n",
       "    border: 2px solid var(--fill-color);\n",
       "    border-color: transparent;\n",
       "    border-bottom-color: var(--fill-color);\n",
       "    animation:\n",
       "      spin 1s steps(1) infinite;\n",
       "  }\n",
       "\n",
       "  @keyframes spin {\n",
       "    0% {\n",
       "      border-color: transparent;\n",
       "      border-bottom-color: var(--fill-color);\n",
       "      border-left-color: var(--fill-color);\n",
       "    }\n",
       "    20% {\n",
       "      border-color: transparent;\n",
       "      border-left-color: var(--fill-color);\n",
       "      border-top-color: var(--fill-color);\n",
       "    }\n",
       "    30% {\n",
       "      border-color: transparent;\n",
       "      border-left-color: var(--fill-color);\n",
       "      border-top-color: var(--fill-color);\n",
       "      border-right-color: var(--fill-color);\n",
       "    }\n",
       "    40% {\n",
       "      border-color: transparent;\n",
       "      border-right-color: var(--fill-color);\n",
       "      border-top-color: var(--fill-color);\n",
       "    }\n",
       "    60% {\n",
       "      border-color: transparent;\n",
       "      border-right-color: var(--fill-color);\n",
       "    }\n",
       "    80% {\n",
       "      border-color: transparent;\n",
       "      border-right-color: var(--fill-color);\n",
       "      border-bottom-color: var(--fill-color);\n",
       "    }\n",
       "    90% {\n",
       "      border-color: transparent;\n",
       "      border-bottom-color: var(--fill-color);\n",
       "    }\n",
       "  }\n",
       "</style>\n",
       "\n",
       "  <script>\n",
       "    async function quickchart(key) {\n",
       "      const quickchartButtonEl =\n",
       "        document.querySelector('#' + key + ' button');\n",
       "      quickchartButtonEl.disabled = true;  // To prevent multiple clicks.\n",
       "      quickchartButtonEl.classList.add('colab-df-spinner');\n",
       "      try {\n",
       "        const charts = await google.colab.kernel.invokeFunction(\n",
       "            'suggestCharts', [key], {});\n",
       "      } catch (error) {\n",
       "        console.error('Error during call to suggestCharts:', error);\n",
       "      }\n",
       "      quickchartButtonEl.classList.remove('colab-df-spinner');\n",
       "      quickchartButtonEl.classList.add('colab-df-quickchart-complete');\n",
       "    }\n",
       "    (() => {\n",
       "      let quickchartButtonEl =\n",
       "        document.querySelector('#df-388bd6a3-19ab-4e07-83ad-a1f8b038d1a2 button');\n",
       "      quickchartButtonEl.style.display =\n",
       "        google.colab.kernel.accessAllowed ? 'block' : 'none';\n",
       "    })();\n",
       "  </script>\n",
       "</div>\n",
       "    </div>\n",
       "  </div>\n"
      ],
      "text/plain": [
       "       column 1  column 2  column 3  column 4  column 5  column 6\n",
       "row 1     False     False     False      True     False      True\n",
       "row 2     False     False     False     False     False      True\n",
       "row 3     False     False      True     False     False     False\n",
       "row 4     False     False     False     False     False     False\n",
       "row 5     False     False      True     False     False     False\n",
       "row 6     False     False     False     False     False     False"
      ]
     },
     "execution_count": 9,
     "metadata": {},
     "output_type": "execute_result"
    }
   ],
   "source": [
    "DF_obj < .2\n",
    "# Use greater than instead and reflect on the result"
   ]
  },
  {
   "cell_type": "markdown",
   "metadata": {
    "id": "rXW0CirfIPwv"
   },
   "source": [
    "### Filtering with scalars"
   ]
  },
  {
   "cell_type": "code",
   "execution_count": null,
   "metadata": {
    "id": "ee4F_rYZIPww"
   },
   "outputs": [],
   "source": [
    "# Retrieves all elements in series_obj that are greater than 6.\n",
    "series_obj[series_obj > 6]\n",
    "\n",
    "# Retrive all elements that are smaller than 5"
   ]
  },
  {
   "cell_type": "markdown",
   "metadata": {
    "id": "uMGTuQWCIPwx"
   },
   "source": [
    "### Setting values with scalars"
   ]
  },
  {
   "cell_type": "code",
   "execution_count": 10,
   "metadata": {
    "colab": {
     "base_uri": "https://localhost:8080/"
    },
    "executionInfo": {
     "elapsed": 938,
     "status": "ok",
     "timestamp": 1696327314823,
     "user": {
      "displayName": "Antesar Shabut",
      "userId": "04854207091221281884"
     },
     "user_tz": -60
    },
    "id": "2tW-QCY9IPwx",
    "outputId": "47b6940b-b4b9-407a-b88a-06622aee0970"
   },
   "outputs": [
    {
     "data": {
      "text/plain": [
       "row 1     8\n",
       "row 2     1\n",
       "row 3     2\n",
       "row 4     3\n",
       "row 5     8\n",
       "row 6     5\n",
       "row 7     6\n",
       "row 8     8\n",
       "row 9     8\n",
       "row 10    9\n",
       "dtype: int64"
      ]
     },
     "execution_count": 10,
     "metadata": {},
     "output_type": "execute_result"
    }
   ],
   "source": [
    "# Assign the value 8 to specific rows using .loc\n",
    "series_obj.loc[['row 1', 'row 5', 'row 8']] = 8\n",
    "series_obj"
   ]
  },
  {
   "cell_type": "markdown",
   "metadata": {
    "id": "LYuDXMNYIPwy"
   },
   "source": [
    "Filtering and selecting using Pandas is one of the most fundamental things you'll do in data analysis. Make sure you know how to use indexing to select and retrieve records."
   ]
  }
 ],
 "metadata": {
  "anaconda-cloud": {},
  "celltoolbar": "Raw Cell Format",
  "colab": {
   "provenance": []
  },
  "kernelspec": {
   "display_name": "Python 3 (ipykernel)",
   "language": "python",
   "name": "python3"
  },
  "language_info": {
   "codemirror_mode": {
    "name": "ipython",
    "version": 3
   },
   "file_extension": ".py",
   "mimetype": "text/x-python",
   "name": "python",
   "nbconvert_exporter": "python",
   "pygments_lexer": "ipython3",
   "version": "3.12.4"
  }
 },
 "nbformat": 4,
 "nbformat_minor": 4
}
